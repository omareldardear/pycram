{
 "cells": [
  {
   "cell_type": "code",
   "id": "initial_id",
   "metadata": {
    "collapsed": true,
    "ExecuteTime": {
     "end_time": "2024-12-12T10:21:06.235605Z",
     "start_time": "2024-12-12T10:20:36.259912Z"
    }
   },
   "source": [
    "import math\n",
    "\n",
    "import pycrap\n",
    "from pycram.ros.logging import loginfo, logerr\n",
    "from pycram.ros_utils.viz_marker_publisher import VizMarkerPublisher\n",
    "from pycram.worlds.bullet_world import BulletWorld\n",
    "from pycram.designators.action_designator import *\n",
    "from pycram.designators.location_designator import *\n",
    "from pycram.datastructures.enums import WorldMode , GripperState\n",
    "from pycram.datastructures.pose import Pose\n",
    "from pycram.world_concepts.world_object import Object\n",
    "from pycram.yarp_utils.yarp_joint_state_updater import run_icub_state_updater\n",
    "from pycram.external_interfaces.yarp_networking import interrupt_and_close\n",
    "from pycram.process_module import ProcessModuleManager, ProcessModule, real_robot\n"
   ],
   "outputs": [
    {
     "name": "stderr",
     "output_type": "stream",
     "text": [
      "[WARN] [1733998847.585535]: [giskard.py:26:<module>] Failed to import Giskard messages, the real robot will not be available\n",
      "[WARN] [1733998850.618016]: [robokudo.py:21:<module>] Failed to import Robokudo messages, the real robot will not be available\n",
      "[WARN] [1733998852.808435]: [move_base.py:13:<module>] Could not import MoveBase messages, Navigation interface could not be initialized\n",
      "pycram_bullet build time: Sep  5 2024 08:54:44\n",
      "/usr/local/src/robot/Bremen/envs/pycram/lib/python3.8/site-packages/pydub/utils.py:170: RuntimeWarning: Couldn't find ffmpeg or avconv - defaulting to ffmpeg, but may not work\n",
      "  warn(\"Couldn't find ffmpeg or avconv - defaulting to ffmpeg, but may not work\", RuntimeWarning)\n",
      "Unknown tag \"hardwareInterface\" in /robot[@name='hsrb']/transmission[@name='base_transmission']/actuator[@name='base_r_drive_wheel_joint_actuator']\n",
      "Unknown tag \"hardwareInterface\" in /robot[@name='hsrb']/transmission[@name='base_transmission']/actuator[@name='base_l_drive_wheel_joint_actuator']\n",
      "Unknown tag \"hardwareInterface\" in /robot[@name='hsrb']/transmission[@name='base_roll_joint_transmission']/actuator[@name='base_roll_joint_actuator']\n",
      "Unknown tag \"hardwareInterface\" in /robot[@name='hsrb']/transmission[@name='head_pan_joint_transmission']/actuator[@name='head_pan_joint_actuator']\n",
      "Unknown tag \"hardwareInterface\" in /robot[@name='hsrb']/transmission[@name='head_tilt_joint_transmission']/actuator[@name='head_tilt_joint_actuator']\n",
      "Unknown tag \"hardwareInterface\" in /robot[@name='hsrb']/transmission[@name='arm_lift_joint_transmission']/actuator[@name='arm_lift_joint_actuator']\n",
      "Unknown tag \"hardwareInterface\" in /robot[@name='hsrb']/transmission[@name='arm_flex_joint_transmission']/actuator[@name='arm_flex_joint_actuator']\n",
      "Unknown tag \"hardwareInterface\" in /robot[@name='hsrb']/transmission[@name='arm_roll_joint_transmission']/actuator[@name='arm_roll_joint_actuator']\n",
      "Unknown tag \"hardwareInterface\" in /robot[@name='hsrb']/transmission[@name='wrist_flex_joint_transmission']/actuator[@name='wrist_flex_joint_actuator']\n",
      "Unknown tag \"hardwareInterface\" in /robot[@name='hsrb']/transmission[@name='wrist_roll_joint_transmission']/actuator[@name='wrist_roll_joint_actuator']\n",
      "Unknown tag \"hardwareInterface\" in /robot[@name='hsrb']/transmission[@name='hand_motor_joint_transmission']/actuator[@name='hand_motor_joint_actuator']\n",
      "Unknown tag \"hardwareInterface\" in /robot[@name='hsrb']/transmission[@name='hand_l_spring_proximal_joint_transmission']/actuator[@name='hand_l_spring_proximal_joint_actuator']\n",
      "Unknown tag \"hardwareInterface\" in /robot[@name='hsrb']/transmission[@name='hand_r_spring_proximal_joint_transmission']/actuator[@name='hand_r_spring_proximal_joint_actuator']\n",
      "[WARN] [1733998857.625821]: [ur5e_controlled_description.py:17:<module>] Could not initialize ur5e description as Multiverse resources path not found.\n",
      "Unknown tag \"motorTorqueConstant\" in /robot[@name='iai_donbot']/transmission[@name='gripper_base_trans_left']\n",
      "Unknown tag \"contact_coefficients\" in /robot[@name='iai_donbot']/link[@name='gripper_gripper_left_link']\n",
      "Unknown tag \"contact_coefficients\" in /robot[@name='iai_donbot']/link[@name='gripper_finger_left_link']\n",
      "Unknown tag \"motorTorqueConstant\" in /robot[@name='iai_donbot']/transmission[@name='gripper_base_trans_right']\n",
      "Unknown tag \"contact_coefficients\" in /robot[@name='iai_donbot']/link[@name='gripper_gripper_right_link']\n",
      "Unknown tag \"contact_coefficients\" in /robot[@name='iai_donbot']/link[@name='gripper_finger_right_link']\n",
      "Unknown tag \"material\" in /robot[@name='iai_donbot']/link[@name='camera_holder_link']/collision[1]\n",
      "Unknown tag \"material\" in /robot[@name='iai_donbot']/link[@name='switches']/collision[1]\n",
      "Unknown tag \"material\" in /robot[@name='iai_donbot']/link[@name='charger']/collision[1]\n",
      "Unknown tag \"material\" in /robot[@name='iai_donbot']/link[@name='e_stop']/collision[1]\n",
      "Unknown tag \"material\" in /robot[@name='iai_donbot']/link[@name='wlan']/collision[1]\n",
      "Unknown tag \"material\" in /robot[@name='iai_donbot']/link[@name='ur5_touchpad']/collision[1]\n",
      "Unknown tag \"material\" in /robot[@name='iai_donbot']/link[@name='wrist_collision']/collision[1]\n",
      "Unknown attribute \"spring_reference\" in /robot[@name='stretch_description']/joint[@name='joint_right_wheel']/dynamics\n",
      "Unknown attribute \"spring_stiffness\" in /robot[@name='stretch_description']/joint[@name='joint_right_wheel']/dynamics\n",
      "Unknown attribute \"spring_reference\" in /robot[@name='stretch_description']/joint[@name='joint_left_wheel']/dynamics\n",
      "Unknown attribute \"spring_stiffness\" in /robot[@name='stretch_description']/joint[@name='joint_left_wheel']/dynamics\n",
      "Unknown tag \"surface\" in /robot[@name='stretch_description']/link[@name='caster_link']/collision[1]\n",
      "Unknown tag \"max_contacts\" in /robot[@name='iCub']/link[@name='r_hand_thumb_0']/collision[1]\n",
      "Unknown tag \"max_contacts\" in /robot[@name='iCub']/link[@name='r_hand_thumb_1']/collision[1]\n",
      "Unknown tag \"max_contacts\" in /robot[@name='iCub']/link[@name='r_hand_thumb_2']/collision[1]\n",
      "Unknown tag \"max_contacts\" in /robot[@name='iCub']/link[@name='r_hand_thumb_3']/collision[1]\n",
      "Unknown tag \"max_contacts\" in /robot[@name='iCub']/link[@name='r_hand_index_0']/collision[1]\n",
      "Unknown tag \"max_contacts\" in /robot[@name='iCub']/link[@name='r_hand_index_1']/collision[1]\n",
      "Unknown tag \"max_contacts\" in /robot[@name='iCub']/link[@name='r_hand_index_2']/collision[1]\n",
      "Unknown tag \"max_contacts\" in /robot[@name='iCub']/link[@name='r_hand_index_3']/collision[1]\n",
      "Unknown tag \"max_contacts\" in /robot[@name='iCub']/link[@name='r_hand_middle_0']/collision[1]\n",
      "Unknown tag \"max_contacts\" in /robot[@name='iCub']/link[@name='r_hand_middle_1']/collision[1]\n",
      "Unknown tag \"max_contacts\" in /robot[@name='iCub']/link[@name='r_hand_middle_2']/collision[1]\n",
      "Unknown tag \"max_contacts\" in /robot[@name='iCub']/link[@name='r_hand_middle_3']/collision[1]\n",
      "Unknown tag \"max_contacts\" in /robot[@name='iCub']/link[@name='r_hand_ring_0']/collision[1]\n",
      "Unknown tag \"max_contacts\" in /robot[@name='iCub']/link[@name='r_hand_ring_1']/collision[1]\n",
      "Unknown tag \"max_contacts\" in /robot[@name='iCub']/link[@name='r_hand_ring_2']/collision[1]\n",
      "Unknown tag \"max_contacts\" in /robot[@name='iCub']/link[@name='r_hand_ring_3']/collision[1]\n",
      "Unknown tag \"max_contacts\" in /robot[@name='iCub']/link[@name='r_hand_little_0']/collision[1]\n",
      "Unknown tag \"max_contacts\" in /robot[@name='iCub']/link[@name='r_hand_little_1']/collision[1]\n",
      "Unknown tag \"max_contacts\" in /robot[@name='iCub']/link[@name='r_hand_little_2']/collision[1]\n",
      "Unknown tag \"max_contacts\" in /robot[@name='iCub']/link[@name='r_hand_little_3']/collision[1]\n",
      "Unknown tag \"max_contacts\" in /robot[@name='iCub']/link[@name='l_hand_thumb_0']/collision[1]\n",
      "Unknown tag \"max_contacts\" in /robot[@name='iCub']/link[@name='l_hand_thumb_1']/collision[1]\n",
      "Unknown tag \"max_contacts\" in /robot[@name='iCub']/link[@name='l_hand_thumb_2']/collision[1]\n",
      "Unknown tag \"max_contacts\" in /robot[@name='iCub']/link[@name='l_hand_thumb_3']/collision[1]\n",
      "Unknown tag \"max_contacts\" in /robot[@name='iCub']/link[@name='l_hand_index_0']/collision[1]\n",
      "Unknown tag \"max_contacts\" in /robot[@name='iCub']/link[@name='l_hand_index_1']/collision[1]\n",
      "Unknown tag \"max_contacts\" in /robot[@name='iCub']/link[@name='l_hand_index_2']/collision[1]\n",
      "Unknown tag \"max_contacts\" in /robot[@name='iCub']/link[@name='l_hand_index_3']/collision[1]\n",
      "Unknown tag \"max_contacts\" in /robot[@name='iCub']/link[@name='l_hand_middle_1']/collision[1]\n",
      "Unknown tag \"max_contacts\" in /robot[@name='iCub']/link[@name='l_hand_middle_2']/collision[1]\n",
      "Unknown tag \"max_contacts\" in /robot[@name='iCub']/link[@name='l_hand_middle_3']/collision[1]\n",
      "Unknown tag \"max_contacts\" in /robot[@name='iCub']/link[@name='l_hand_ring_0']/collision[1]\n",
      "Unknown tag \"max_contacts\" in /robot[@name='iCub']/link[@name='l_hand_ring_1']/collision[1]\n",
      "Unknown tag \"max_contacts\" in /robot[@name='iCub']/link[@name='l_hand_ring_2']/collision[1]\n",
      "Unknown tag \"max_contacts\" in /robot[@name='iCub']/link[@name='l_hand_ring_3']/collision[1]\n",
      "Unknown tag \"max_contacts\" in /robot[@name='iCub']/link[@name='l_hand_little_0']/collision[1]\n",
      "Unknown tag \"max_contacts\" in /robot[@name='iCub']/link[@name='l_hand_little_1']/collision[1]\n",
      "Unknown tag \"max_contacts\" in /robot[@name='iCub']/link[@name='l_hand_little_2']/collision[1]\n",
      "Unknown tag \"max_contacts\" in /robot[@name='iCub']/link[@name='l_hand_little_3']/collision[1]\n",
      "Unknown tag \"sensor\" in /robot[@name='iCub']\n",
      "[WARN] [1733998860.746190]: [helper.py:73:get_robot_mjcf_path] Multiverse resources path not found.\n",
      "Unknown attribute \"type\" in /robot[@name='pr2']/link[@name='base_laser_link']\n",
      "Unknown attribute \"type\" in /robot[@name='pr2']/link[@name='wide_stereo_optical_frame']\n",
      "Unknown attribute \"type\" in /robot[@name='pr2']/link[@name='narrow_stereo_optical_frame']\n",
      "Unknown attribute \"type\" in /robot[@name='pr2']/link[@name='laser_tilt_link']\n",
      "[WARN] [1733998863.975821]: [helper.py:73:get_robot_mjcf_path] Multiverse resources path not found.\n",
      "Unknown attribute \"type\" in /robot[@name='tiago_dual']/link[@name='base_laser_link']\n",
      "Unknown tag \"material\" in /robot[@name='tiago_dual']/link[@name='base_link']/collision[1]\n",
      "Unknown tag \"material\" in /robot[@name='tiago_dual']/link[@name='base_antenna_left_link']/collision[1]\n",
      "Unknown tag \"material\" in /robot[@name='tiago_dual']/link[@name='base_antenna_right_link']/collision[1]\n",
      "Unknown tag \"kinematic\" in /robot[@name='tiago_dual']/link[@name='suspension_right_link']\n",
      "Unknown tag \"gravity\" in /robot[@name='tiago_dual']/link[@name='suspension_right_link']\n",
      "Unknown tag \"kinematic\" in /robot[@name='tiago_dual']/link[@name='suspension_left_link']\n",
      "Unknown tag \"gravity\" in /robot[@name='tiago_dual']/link[@name='suspension_left_link']\n",
      "Unknown tag \"material\" in /robot[@name='tiago_dual']/link[@name='torso_fixed_column_link']/collision[1]\n",
      "Unknown tag \"material\" in /robot[@name='tiago_dual']/link[@name='torso_lift_link']/collision[1]\n",
      "Unknown tag \"material\" in /robot[@name='tiago_dual']/link[@name='torso_lift_link']/collision[2]\n",
      "Unknown tag \"material\" in /robot[@name='tiago_dual']/link[@name='torso_lift_link']/collision[3]\n",
      "Unknown tag \"material\" in /robot[@name='tiago_dual']/link[@name='torso_lift_link']/collision[4]\n",
      "Unknown tag \"material\" in /robot[@name='tiago_dual']/link[@name='head_1_link']/collision[1]\n",
      "Unknown tag \"offset\" in /robot[@name='tiago_dual']/transmission[@name='head_1_trans']/joint[@name='head_1_joint']\n",
      "Unknown tag \"offset\" in /robot[@name='tiago_dual']/transmission[@name='head_2_trans']/joint[@name='head_2_joint']\n",
      "Unknown tag \"offset\" in /robot[@name='tiago_dual']/transmission[@name='arm_left_5_trans']/joint[@name='arm_left_5_joint']\n",
      "Unknown tag \"role\" in /robot[@name='tiago_dual']/transmission[@name='arm_left_wrist_trans']/actuator[@name='arm_left_6_motor']\n",
      "Unknown tag \"role\" in /robot[@name='tiago_dual']/transmission[@name='arm_left_wrist_trans']/actuator[@name='arm_left_7_motor']\n",
      "Unknown tag \"role\" in /robot[@name='tiago_dual']/transmission[@name='arm_left_wrist_trans']/joint[@name='arm_left_6_joint']\n",
      "Unknown tag \"offset\" in /robot[@name='tiago_dual']/transmission[@name='arm_left_wrist_trans']/joint[@name='arm_left_6_joint']\n",
      "Unknown tag \"mechanicalReduction\" in /robot[@name='tiago_dual']/transmission[@name='arm_left_wrist_trans']/joint[@name='arm_left_6_joint']\n",
      "Unknown tag \"ignoreTransmissionAbsoluteEncoder\" in /robot[@name='tiago_dual']/transmission[@name='arm_left_wrist_trans']/joint[@name='arm_left_6_joint']\n",
      "Unknown tag \"role\" in /robot[@name='tiago_dual']/transmission[@name='arm_left_wrist_trans']/joint[@name='arm_left_7_joint']\n",
      "Unknown tag \"offset\" in /robot[@name='tiago_dual']/transmission[@name='arm_left_wrist_trans']/joint[@name='arm_left_7_joint']\n",
      "Unknown tag \"mechanicalReduction\" in /robot[@name='tiago_dual']/transmission[@name='arm_left_wrist_trans']/joint[@name='arm_left_7_joint']\n",
      "Unknown tag \"ignoreTransmissionAbsoluteEncoder\" in /robot[@name='tiago_dual']/transmission[@name='arm_left_wrist_trans']/joint[@name='arm_left_7_joint']\n",
      "Unknown tag \"offset\" in /robot[@name='tiago_dual']/transmission[@name='arm_left_1_trans']/joint[@name='arm_left_1_joint']\n",
      "Unknown tag \"offset\" in /robot[@name='tiago_dual']/transmission[@name='arm_left_2_trans']/joint[@name='arm_left_2_joint']\n",
      "Unknown tag \"offset\" in /robot[@name='tiago_dual']/transmission[@name='arm_left_3_trans']/joint[@name='arm_left_3_joint']\n",
      "Unknown tag \"offset\" in /robot[@name='tiago_dual']/transmission[@name='arm_left_4_trans']/joint[@name='arm_left_4_joint']\n",
      "Unknown tag \"offset\" in /robot[@name='tiago_dual']/transmission[@name='arm_right_5_trans']/joint[@name='arm_right_5_joint']\n",
      "Unknown tag \"role\" in /robot[@name='tiago_dual']/transmission[@name='arm_right_wrist_trans']/actuator[@name='arm_right_6_motor']\n",
      "Unknown tag \"role\" in /robot[@name='tiago_dual']/transmission[@name='arm_right_wrist_trans']/actuator[@name='arm_right_7_motor']\n",
      "Unknown tag \"role\" in /robot[@name='tiago_dual']/transmission[@name='arm_right_wrist_trans']/joint[@name='arm_right_6_joint']\n",
      "Unknown tag \"offset\" in /robot[@name='tiago_dual']/transmission[@name='arm_right_wrist_trans']/joint[@name='arm_right_6_joint']\n",
      "Unknown tag \"mechanicalReduction\" in /robot[@name='tiago_dual']/transmission[@name='arm_right_wrist_trans']/joint[@name='arm_right_6_joint']\n",
      "Unknown tag \"ignoreTransmissionAbsoluteEncoder\" in /robot[@name='tiago_dual']/transmission[@name='arm_right_wrist_trans']/joint[@name='arm_right_6_joint']\n",
      "Unknown tag \"role\" in /robot[@name='tiago_dual']/transmission[@name='arm_right_wrist_trans']/joint[@name='arm_right_7_joint']\n",
      "Unknown tag \"offset\" in /robot[@name='tiago_dual']/transmission[@name='arm_right_wrist_trans']/joint[@name='arm_right_7_joint']\n",
      "Unknown tag \"mechanicalReduction\" in /robot[@name='tiago_dual']/transmission[@name='arm_right_wrist_trans']/joint[@name='arm_right_7_joint']\n",
      "Unknown tag \"ignoreTransmissionAbsoluteEncoder\" in /robot[@name='tiago_dual']/transmission[@name='arm_right_wrist_trans']/joint[@name='arm_right_7_joint']\n",
      "Unknown tag \"offset\" in /robot[@name='tiago_dual']/transmission[@name='arm_right_1_trans']/joint[@name='arm_right_1_joint']\n",
      "Unknown tag \"offset\" in /robot[@name='tiago_dual']/transmission[@name='arm_right_2_trans']/joint[@name='arm_right_2_joint']\n",
      "Unknown tag \"offset\" in /robot[@name='tiago_dual']/transmission[@name='arm_right_3_trans']/joint[@name='arm_right_3_joint']\n",
      "Unknown tag \"offset\" in /robot[@name='tiago_dual']/transmission[@name='arm_right_4_trans']/joint[@name='arm_right_4_joint']\n",
      "Unknown tag \"motorTorqueConstant\" in /robot[@name='boxy']/transmission[@name='left_gripper_base_trans_left']\n",
      "Unknown tag \"contact_coefficients\" in /robot[@name='boxy']/link[@name='left_gripper_gripper_left_link']\n",
      "Unknown tag \"contact_coefficients\" in /robot[@name='boxy']/link[@name='left_gripper_finger_left_link']\n",
      "Unknown tag \"motorTorqueConstant\" in /robot[@name='boxy']/transmission[@name='left_gripper_base_trans_right']\n",
      "Unknown tag \"contact_coefficients\" in /robot[@name='boxy']/link[@name='left_gripper_gripper_right_link']\n",
      "Unknown tag \"contact_coefficients\" in /robot[@name='boxy']/link[@name='left_gripper_finger_right_link']\n",
      "Unknown tag \"motorTorqueConstant\" in /robot[@name='boxy']/transmission[@name='right_gripper_base_trans_left']\n",
      "Unknown tag \"contact_coefficients\" in /robot[@name='boxy']/link[@name='right_gripper_gripper_left_link']\n",
      "Unknown tag \"contact_coefficients\" in /robot[@name='boxy']/link[@name='right_gripper_finger_left_link']\n",
      "Unknown tag \"motorTorqueConstant\" in /robot[@name='boxy']/transmission[@name='right_gripper_base_trans_right']\n",
      "Unknown tag \"contact_coefficients\" in /robot[@name='boxy']/link[@name='right_gripper_gripper_right_link']\n",
      "Unknown tag \"contact_coefficients\" in /robot[@name='boxy']/link[@name='right_gripper_finger_right_link']\n",
      "Unknown attribute \"iyx\" in /robot[@name='ur5_robotiq']/link[@name='robotiq_85_base_link']/inertial/inertia\n",
      "Unknown attribute \"izx\" in /robot[@name='ur5_robotiq']/link[@name='robotiq_85_base_link']/inertial/inertia\n",
      "Unknown attribute \"izy\" in /robot[@name='ur5_robotiq']/link[@name='robotiq_85_base_link']/inertial/inertia\n",
      "Unknown attribute \"iyx\" in /robot[@name='ur5_robotiq']/link[@name='robotiq_85_left_knuckle_link']/inertial/inertia\n",
      "Unknown attribute \"izx\" in /robot[@name='ur5_robotiq']/link[@name='robotiq_85_left_knuckle_link']/inertial/inertia\n",
      "Unknown attribute \"izy\" in /robot[@name='ur5_robotiq']/link[@name='robotiq_85_left_knuckle_link']/inertial/inertia\n",
      "Unknown attribute \"iyx\" in /robot[@name='ur5_robotiq']/link[@name='robotiq_85_right_knuckle_link']/inertial/inertia\n",
      "Unknown attribute \"izx\" in /robot[@name='ur5_robotiq']/link[@name='robotiq_85_right_knuckle_link']/inertial/inertia\n",
      "Unknown attribute \"izy\" in /robot[@name='ur5_robotiq']/link[@name='robotiq_85_right_knuckle_link']/inertial/inertia\n",
      "Unknown attribute \"iyx\" in /robot[@name='ur5_robotiq']/link[@name='robotiq_85_left_finger_link']/inertial/inertia\n",
      "Unknown attribute \"izx\" in /robot[@name='ur5_robotiq']/link[@name='robotiq_85_left_finger_link']/inertial/inertia\n",
      "Unknown attribute \"izy\" in /robot[@name='ur5_robotiq']/link[@name='robotiq_85_left_finger_link']/inertial/inertia\n",
      "Unknown attribute \"iyx\" in /robot[@name='ur5_robotiq']/link[@name='robotiq_85_right_finger_link']/inertial/inertia\n",
      "Unknown attribute \"izx\" in /robot[@name='ur5_robotiq']/link[@name='robotiq_85_right_finger_link']/inertial/inertia\n",
      "Unknown attribute \"izy\" in /robot[@name='ur5_robotiq']/link[@name='robotiq_85_right_finger_link']/inertial/inertia\n",
      "Unknown attribute \"iyx\" in /robot[@name='ur5_robotiq']/link[@name='robotiq_85_left_inner_knuckle_link']/inertial/inertia\n",
      "Unknown attribute \"izx\" in /robot[@name='ur5_robotiq']/link[@name='robotiq_85_left_inner_knuckle_link']/inertial/inertia\n",
      "Unknown attribute \"izy\" in /robot[@name='ur5_robotiq']/link[@name='robotiq_85_left_inner_knuckle_link']/inertial/inertia\n",
      "Unknown attribute \"iyx\" in /robot[@name='ur5_robotiq']/link[@name='robotiq_85_right_inner_knuckle_link']/inertial/inertia\n",
      "Unknown attribute \"izx\" in /robot[@name='ur5_robotiq']/link[@name='robotiq_85_right_inner_knuckle_link']/inertial/inertia\n",
      "Unknown attribute \"izy\" in /robot[@name='ur5_robotiq']/link[@name='robotiq_85_right_inner_knuckle_link']/inertial/inertia\n",
      "Unknown attribute \"iyx\" in /robot[@name='ur5_robotiq']/link[@name='robotiq_85_left_finger_tip_link']/inertial/inertia\n",
      "Unknown attribute \"izx\" in /robot[@name='ur5_robotiq']/link[@name='robotiq_85_left_finger_tip_link']/inertial/inertia\n",
      "Unknown attribute \"izy\" in /robot[@name='ur5_robotiq']/link[@name='robotiq_85_left_finger_tip_link']/inertial/inertia\n",
      "Unknown tag \"contact\" in /robot[@name='ur5_robotiq']/link[@name='robotiq_85_left_finger_tip_link']\n",
      "Unknown attribute \"iyx\" in /robot[@name='ur5_robotiq']/link[@name='robotiq_85_right_finger_tip_link']/inertial/inertia\n",
      "Unknown attribute \"izx\" in /robot[@name='ur5_robotiq']/link[@name='robotiq_85_right_finger_tip_link']/inertial/inertia\n",
      "Unknown attribute \"izy\" in /robot[@name='ur5_robotiq']/link[@name='robotiq_85_right_finger_tip_link']/inertial/inertia\n",
      "Unknown tag \"contact\" in /robot[@name='ur5_robotiq']/link[@name='robotiq_85_right_finger_tip_link']\n"
     ]
    },
    {
     "name": "stdout",
     "output_type": "stream",
     "text": [
      "[INFO] [1733998866.034292]: [icub_process_modules.py:500:__init__] yarp network state detected\n",
      "[INFO] |yarp.os.Port|/pycram/gaze/cmd:oi| Port /pycram/gaze/cmd:oi active at tcp://134.102.113.35:10241/\n",
      "Port /pycram/gaze/cmd:oi opened correctly\n",
      "[INFO] |yarp.os.Port|/pycram/action/cmd:oi| Port /pycram/action/cmd:oi active at tcp://134.102.113.35:10242/\n",
      "Port /pycram/action/cmd:oi opened correctly\n",
      "[INFO] |yarp.os.Port|/pycram/ctp/torso:oi| Port /pycram/ctp/torso:oi active at tcp://134.102.113.35:10243/\n",
      "Port /pycram/ctp/torso:oi opened correctly\n",
      "Port /pycram/ctp/right_arm:oi opened correctly\n",
      "[INFO] |yarp.os.Port|/pycram/ctp/right_arm:oi| Port /pycram/ctp/right_arm:oi active at tcp://134.102.113.35:10244/\n",
      "[INFO] |yarp.os.Port|/pycram/ctp/left_arm:oi| Port /pycram/ctp/left_arm:oi active at tcp://134.102.113.35:10245/\n",
      "Port /pycram/ctp/left_arm:oi opened correctly\n",
      "[INFO] |yarp.os.Port|/pycram/state/torso:i| Port /pycram/state/torso:i active at tcp://134.102.113.35:10246/\n",
      "Port /pycram/state/torso:i opened correctly\n",
      "Port /pycram/state/right_arm:i opened correctly\n",
      "[INFO] |yarp.os.Port|/pycram/state/right_arm:i| Port /pycram/state/right_arm:i active at tcp://134.102.113.35:10247/\n",
      "Port /pycram/state/left_arm:i opened correctly\n",
      "[INFO] |yarp.os.Port|/pycram/state/left_arm:i| Port /pycram/state/left_arm:i active at tcp://134.102.113.35:10248/\n",
      "[INFO] |yarp.os.impl.PortCoreOutputUnit|/pycram/gaze/cmd:oi| Sending output from /pycram/gaze/cmd:oi to /iKinGazeCtrl/rpc using tcp\n",
      "[INFO] |yarp.os.impl.PortCoreOutputUnit|/pycram/action/cmd:oi| Sending output from /pycram/action/cmd:oi to /actionsRenderingEngine/cmd:io using tcp\n",
      "[INFO] |yarp.os.impl.PortCoreOutputUnit|/pycram/ctp/torso:oi| Sending output from /pycram/ctp/torso:oi to /ctpservice/torso/rpc using tcp\n",
      "[INFO] |yarp.os.impl.PortCoreOutputUnit|/pycram/ctp/right_arm:oi| Sending output from /pycram/ctp/right_arm:oi to /ctpservice/right_arm/rpc using tcp\n",
      "[INFO] |yarp.os.impl.PortCoreOutputUnit|/pycram/ctp/left_arm:oi| Sending output from /pycram/ctp/left_arm:oi to /ctpservice/left_arm/rpc using tcp\n",
      "[INFO] |yarp.os.impl.PortCoreInputUnit|/pycram/state/torso:i| Receiving input from /icubSim/torso/state:o to /pycram/state/torso:i using tcp\n",
      "[INFO] |yarp.os.impl.PortCoreInputUnit|/pycram/state/right_arm:i| Receiving input from /icubSim/right_arm/state:o to /pycram/state/right_arm:i using tcp\n",
      "[INFO] |yarp.os.impl.PortCoreInputUnit|/pycram/state/left_arm:i| Receiving input from /icubSim/left_arm/state:o to /pycram/state/left_arm:i using tcp\n"
     ]
    }
   ],
   "execution_count": 1
  },
  {
   "metadata": {},
   "cell_type": "markdown",
   "source": "Initializing a world",
   "id": "b023ed641c9930a2"
  },
  {
   "metadata": {
    "ExecuteTime": {
     "end_time": "2024-12-12T10:21:07.179121Z",
     "start_time": "2024-12-12T10:21:06.604972Z"
    }
   },
   "cell_type": "code",
   "source": [
    "world = BulletWorld(mode=WorldMode.DIRECT)\n",
    "viz_marker_publisher = VizMarkerPublisher()"
   ],
   "id": "7d124114c826647c",
   "outputs": [
    {
     "name": "stdout",
     "output_type": "stream",
     "text": [
      "[INFO] [1733998867.162122]: [cache_manager.py:102:look_for_file_in_data_dir] Found file plane.urdf in /usr/local/src/robot/Bremen/workspace/ros/src/pycram/resources/objects/plane.urdf\n"
     ]
    }
   ],
   "execution_count": 2
  },
  {
   "metadata": {},
   "cell_type": "markdown",
   "source": "adding the robot and the environment",
   "id": "453ea6e790fa13b9"
  },
  {
   "metadata": {
    "ExecuteTime": {
     "end_time": "2024-12-12T10:21:10.918788Z",
     "start_time": "2024-12-12T10:21:07.233772Z"
    }
   },
   "cell_type": "code",
   "source": [
    "robot = Object(\"icub\", pycrap.Robot, \"icub.urdf\" , pose=Pose([0, 0, 0.6]))\n",
    "kitchen = Object(\"kitchen\", pycrap.Kitchen, \"kitchen.urdf\" )"
   ],
   "id": "d833f6103b1948",
   "outputs": [
    {
     "name": "stdout",
     "output_type": "stream",
     "text": [
      "[INFO] [1733998867.335881]: [cache_manager.py:102:look_for_file_in_data_dir] Found file icub.urdf in /usr/local/src/robot/Bremen/workspace/ros/src/pycram/resources/robots/icub.urdf\n"
     ]
    },
    {
     "name": "stderr",
     "output_type": "stream",
     "text": [
      "Unknown tag \"max_contacts\" in /robot[@name='iCub']/link[@name='r_hand_thumb_0']/collision[1]\n",
      "Unknown tag \"max_contacts\" in /robot[@name='iCub']/link[@name='r_hand_thumb_1']/collision[1]\n",
      "Unknown tag \"max_contacts\" in /robot[@name='iCub']/link[@name='r_hand_thumb_2']/collision[1]\n",
      "Unknown tag \"max_contacts\" in /robot[@name='iCub']/link[@name='r_hand_thumb_3']/collision[1]\n",
      "Unknown tag \"max_contacts\" in /robot[@name='iCub']/link[@name='r_hand_index_0']/collision[1]\n",
      "Unknown tag \"max_contacts\" in /robot[@name='iCub']/link[@name='r_hand_index_1']/collision[1]\n",
      "Unknown tag \"max_contacts\" in /robot[@name='iCub']/link[@name='r_hand_index_2']/collision[1]\n",
      "Unknown tag \"max_contacts\" in /robot[@name='iCub']/link[@name='r_hand_index_3']/collision[1]\n",
      "Unknown tag \"max_contacts\" in /robot[@name='iCub']/link[@name='r_hand_middle_0']/collision[1]\n",
      "Unknown tag \"max_contacts\" in /robot[@name='iCub']/link[@name='r_hand_middle_1']/collision[1]\n",
      "Unknown tag \"max_contacts\" in /robot[@name='iCub']/link[@name='r_hand_middle_2']/collision[1]\n",
      "Unknown tag \"max_contacts\" in /robot[@name='iCub']/link[@name='r_hand_middle_3']/collision[1]\n",
      "Unknown tag \"max_contacts\" in /robot[@name='iCub']/link[@name='r_hand_ring_0']/collision[1]\n",
      "Unknown tag \"max_contacts\" in /robot[@name='iCub']/link[@name='r_hand_ring_1']/collision[1]\n",
      "Unknown tag \"max_contacts\" in /robot[@name='iCub']/link[@name='r_hand_ring_2']/collision[1]\n",
      "Unknown tag \"max_contacts\" in /robot[@name='iCub']/link[@name='r_hand_ring_3']/collision[1]\n",
      "Unknown tag \"max_contacts\" in /robot[@name='iCub']/link[@name='r_hand_little_0']/collision[1]\n",
      "Unknown tag \"max_contacts\" in /robot[@name='iCub']/link[@name='r_hand_little_1']/collision[1]\n",
      "Unknown tag \"max_contacts\" in /robot[@name='iCub']/link[@name='r_hand_little_2']/collision[1]\n",
      "Unknown tag \"max_contacts\" in /robot[@name='iCub']/link[@name='r_hand_little_3']/collision[1]\n",
      "Unknown tag \"max_contacts\" in /robot[@name='iCub']/link[@name='l_hand_thumb_0']/collision[1]\n",
      "Unknown tag \"max_contacts\" in /robot[@name='iCub']/link[@name='l_hand_thumb_1']/collision[1]\n",
      "Unknown tag \"max_contacts\" in /robot[@name='iCub']/link[@name='l_hand_thumb_2']/collision[1]\n",
      "Unknown tag \"max_contacts\" in /robot[@name='iCub']/link[@name='l_hand_thumb_3']/collision[1]\n",
      "Unknown tag \"max_contacts\" in /robot[@name='iCub']/link[@name='l_hand_index_0']/collision[1]\n",
      "Unknown tag \"max_contacts\" in /robot[@name='iCub']/link[@name='l_hand_index_1']/collision[1]\n",
      "Unknown tag \"max_contacts\" in /robot[@name='iCub']/link[@name='l_hand_index_2']/collision[1]\n",
      "Unknown tag \"max_contacts\" in /robot[@name='iCub']/link[@name='l_hand_index_3']/collision[1]\n",
      "Unknown tag \"max_contacts\" in /robot[@name='iCub']/link[@name='l_hand_middle_1']/collision[1]\n",
      "Unknown tag \"max_contacts\" in /robot[@name='iCub']/link[@name='l_hand_middle_2']/collision[1]\n",
      "Unknown tag \"max_contacts\" in /robot[@name='iCub']/link[@name='l_hand_middle_3']/collision[1]\n",
      "Unknown tag \"max_contacts\" in /robot[@name='iCub']/link[@name='l_hand_ring_0']/collision[1]\n",
      "Unknown tag \"max_contacts\" in /robot[@name='iCub']/link[@name='l_hand_ring_1']/collision[1]\n",
      "Unknown tag \"max_contacts\" in /robot[@name='iCub']/link[@name='l_hand_ring_2']/collision[1]\n",
      "Unknown tag \"max_contacts\" in /robot[@name='iCub']/link[@name='l_hand_ring_3']/collision[1]\n",
      "Unknown tag \"max_contacts\" in /robot[@name='iCub']/link[@name='l_hand_little_0']/collision[1]\n",
      "Unknown tag \"max_contacts\" in /robot[@name='iCub']/link[@name='l_hand_little_1']/collision[1]\n",
      "Unknown tag \"max_contacts\" in /robot[@name='iCub']/link[@name='l_hand_little_2']/collision[1]\n",
      "Unknown tag \"max_contacts\" in /robot[@name='iCub']/link[@name='l_hand_little_3']/collision[1]\n",
      "Unknown tag \"sensor\" in /robot[@name='iCub']\n"
     ]
    },
    {
     "name": "stdout",
     "output_type": "stream",
     "text": [
      "[INFO] [1733998870.166128]: [cache_manager.py:102:look_for_file_in_data_dir] Found file kitchen.urdf in /usr/local/src/robot/Bremen/workspace/ros/src/pycram/resources/objects/kitchen.urdf\n"
     ]
    },
    {
     "name": "stderr",
     "output_type": "stream",
     "text": [
      "Scalar element defined multiple times: limit\n"
     ]
    }
   ],
   "execution_count": 3
  },
  {
   "metadata": {},
   "cell_type": "markdown",
   "source": "if ypu want the status update for icub run the following cell",
   "id": "dccfd7af9bd28ded"
  },
  {
   "metadata": {
    "ExecuteTime": {
     "end_time": "2024-12-12T10:21:13.087337Z",
     "start_time": "2024-12-12T10:21:10.934705Z"
    }
   },
   "cell_type": "code",
   "source": [
    "yarpModule = run_icub_state_updater(['/', '--robot', 'icubSim'])\n",
    "if yarpModule is None:\n",
    "    print(\"Failed to open yarp module\")"
   ],
   "id": "7630c6f0f95b5d26",
   "outputs": [
    {
     "name": "stdout",
     "output_type": "stream",
     "text": [
      "[DEBUG] |yarp.os.ResourceFinder| clearing context\n",
      "[DEBUG] |yarp.os.ResourceFinder| adding context [pycram]\n",
      "[DEBUG] |yarp.os.ResourceFinder| configuring\n",
      "[DEBUG] |yarp.os.ResourceFinder| finding paths [plugins]\n",
      "[INFO] |yarp.os.Port|/pycramICubStatePublisher| Port /pycramICubStatePublisher active at tcp://134.102.113.35:10249/\n",
      "[INFO] |yarp.os.Port|/pycramICubStatePublisher/state/torso:i| Port /pycramICubStatePublisher/state/torso:i active at tcp://134.102.113.35:10250/\n",
      "[INFO] |yarp.os.Port|/pycramICubStatePublisher/state/right_arm:i| Port /pycramICubStatePublisher/state/right_arm:i active at tcp://134.102.113.35:10251/\n",
      "[INFO] |yarp.os.Port|/pycramICubStatePublisher/state/left_arm:i| Port /pycramICubStatePublisher/state/left_arm:i active at tcp://134.102.113.35:10252/\n",
      "[INFO] |yarp.os.Port|/pycramICubStatePublisher/state/head:i| Port /pycramICubStatePublisher/state/head:i active at tcp://134.102.113.35:10253/\n",
      "[INFO] |yarp.os.impl.PortCoreInputUnit|/pycramICubStatePublisher/state/torso:i| Receiving input from /icubSim/torso/state:o to /pycramICubStatePublisher/state/torso:i using tcp\n",
      "[INFO] |yarp.os.impl.PortCoreInputUnit|/pycramICubStatePublisher/state/right_arm:i| Receiving input from /icubSim/right_arm/state:o to /pycramICubStatePublisher/state/right_arm:i using tcp\n",
      "[INFO] |yarp.os.impl.PortCoreInputUnit|/pycramICubStatePublisher/state/left_arm:i| Receiving input from /icubSim/left_arm/state:o to /pycramICubStatePublisher/state/left_arm:i using tcp\n",
      "[INFO] |yarp.os.impl.PortCoreInputUnit|/pycramICubStatePublisher/state/head:i| Receiving input from /icubSim/head/state:o to /pycramICubStatePublisher/state/head:i using tcp\n",
      "[INFO] [1733998871.543331]: [yarp_joint_state_updater.py:89:configure] Initialization complete\n",
      "[INFO] [1733998872.974025]: [yarp_joint_state_updater.py:378:run_icub_state_updater] done running module\n"
     ]
    }
   ],
   "execution_count": 4
  },
  {
   "metadata": {},
   "cell_type": "markdown",
   "source": "some motion action examples",
   "id": "b318bf76b13335e2"
  },
  {
   "metadata": {
    "ExecuteTime": {
     "end_time": "2024-12-12T10:21:16.721756Z",
     "start_time": "2024-12-12T10:21:13.643172Z"
    }
   },
   "cell_type": "code",
   "source": [
    "with real_robot:\n",
    "    MoveJointsMotion([\"torso_roll\"], [math.radians(-20.0)]).perform()"
   ],
   "id": "379f2a349c197bf3",
   "outputs": [
    {
     "name": "stdout",
     "output_type": "stream",
     "text": [
      "[INFO] [1733998875.212483]: [icub_process_modules.py:327:__init__] iCubMoveJointsReal initialized\n",
      "[INFO] [1733998876.597550]: [icub_process_modules.py:63:update_part] Received: ACK\n"
     ]
    }
   ],
   "execution_count": 5
  },
  {
   "metadata": {
    "ExecuteTime": {
     "end_time": "2024-12-12T10:21:20.678885Z",
     "start_time": "2024-12-12T10:21:17.199857Z"
    }
   },
   "cell_type": "code",
   "source": [
    "with real_robot:\n",
    "    ParkArmsActionPerformable(arm=Arms.BOTH).perform()"
   ],
   "id": "718536502a94753c",
   "outputs": [
    {
     "name": "stdout",
     "output_type": "stream",
     "text": [
      "[INFO] [1733998878.800949]: [icub_process_modules.py:265:__init__] iCubMoveArmJointsReal initialized\n",
      "[INFO] [1733998879.588164]: [icub_process_modules.py:63:update_part] Received: ACK\n",
      "[INFO] [1733998880.630365]: [icub_process_modules.py:63:update_part] Received: ACK\n"
     ]
    }
   ],
   "execution_count": 6
  },
  {
   "metadata": {
    "ExecuteTime": {
     "end_time": "2024-12-12T10:21:24.898744Z",
     "start_time": "2024-12-12T10:21:21.181701Z"
    }
   },
   "cell_type": "code",
   "source": [
    "with real_robot:\n",
    "  MoveArmJointsMotion(left_arm_poses={\"l_elbow\": math.radians(20.0)}).perform()"
   ],
   "id": "5d34fb06e0b8ffd8",
   "outputs": [
    {
     "name": "stdout",
     "output_type": "stream",
     "text": [
      "[INFO] [1733998883.031935]: [icub_process_modules.py:265:__init__] iCubMoveArmJointsReal initialized\n",
      "[INFO] [1733998884.762697]: [icub_process_modules.py:63:update_part] Received: ACK\n"
     ]
    }
   ],
   "execution_count": 7
  },
  {
   "metadata": {
    "ExecuteTime": {
     "end_time": "2024-12-12T10:21:29.143019Z",
     "start_time": "2024-12-12T10:21:25.446144Z"
    }
   },
   "cell_type": "code",
   "source": [
    "with real_robot:\n",
    "    MoveArmJointsMotion(right_arm_poses={\"r_elbow\": math.radians(40.0)}).perform()"
   ],
   "id": "7693dc3f9b5f96ef",
   "outputs": [
    {
     "name": "stdout",
     "output_type": "stream",
     "text": [
      "[INFO] [1733998887.445865]: [icub_process_modules.py:265:__init__] iCubMoveArmJointsReal initialized\n",
      "[INFO] [1733998888.996222]: [icub_process_modules.py:63:update_part] Received: ACK\n"
     ]
    }
   ],
   "execution_count": 8
  },
  {
   "metadata": {
    "ExecuteTime": {
     "end_time": "2024-12-12T10:21:33.203066Z",
     "start_time": "2024-12-12T10:21:29.692034Z"
    }
   },
   "cell_type": "code",
   "source": [
    "with real_robot:\n",
    "    LookingMotion(Pose([-2, -2, 3])).perform()"
   ],
   "id": "1a94c6e30cecd78",
   "outputs": [
    {
     "name": "stdout",
     "output_type": "stream",
     "text": [
      "[INFO] [1733998891.506742]: [icub_process_modules.py:92:_execute] iCubMoveHeadReal\n",
      "[INFO] [1733998893.077215]: [icub_process_modules.py:112:_execute] Received: ACK\n"
     ]
    }
   ],
   "execution_count": 9
  },
  {
   "metadata": {
    "ExecuteTime": {
     "end_time": "2024-12-12T10:21:40.125488Z",
     "start_time": "2024-12-12T10:21:33.666043Z"
    }
   },
   "cell_type": "code",
   "source": [
    "with real_robot:\n",
    "    MoveGripperMotion(GripperState.CLOSE, Arms.RIGHT).perform()\n",
    "    MoveGripperMotion(GripperState.CLOSE, Arms.LEFT).perform()"
   ],
   "id": "252c072b9beb1180",
   "outputs": [
    {
     "name": "stdout",
     "output_type": "stream",
     "text": [
      "[INFO] [1733998894.887572]: [icub_process_modules.py:138:__init__] iCubMoveGripperReal initialized\n",
      "[INFO] [1733998896.695699]: [icub_process_modules.py:160:update_hand] Received: ACK\n",
      "[INFO] [1733998898.377648]: [icub_process_modules.py:138:__init__] iCubMoveGripperReal initialized\n",
      "[INFO] [1733998900.007856]: [icub_process_modules.py:160:update_hand] Received: ACK\n"
     ]
    }
   ],
   "execution_count": 10
  },
  {
   "metadata": {
    "ExecuteTime": {
     "end_time": "2024-12-12T10:21:47.279059Z",
     "start_time": "2024-12-12T10:21:40.637119Z"
    }
   },
   "cell_type": "code",
   "source": [
    "with real_robot:\n",
    "    MoveGripperMotion(GripperState.OPEN, Arms.RIGHT).perform()\n",
    "    MoveGripperMotion(GripperState.OPEN, Arms.LEFT).perform()"
   ],
   "id": "fc03037631b39bea",
   "outputs": [
    {
     "name": "stdout",
     "output_type": "stream",
     "text": [
      "[INFO] [1733998902.183713]: [icub_process_modules.py:138:__init__] iCubMoveGripperReal initialized\n",
      "[INFO] [1733998903.877550]: [icub_process_modules.py:160:update_hand] Received: ACK\n",
      "[INFO] [1733998905.499243]: [icub_process_modules.py:138:__init__] iCubMoveGripperReal initialized\n",
      "[INFO] [1733998907.107124]: [icub_process_modules.py:160:update_hand] Received: ACK\n"
     ]
    }
   ],
   "execution_count": 11
  },
  {
   "metadata": {
    "ExecuteTime": {
     "end_time": "2024-12-12T10:21:49.594102Z",
     "start_time": "2024-12-12T10:21:47.995741Z"
    }
   },
   "cell_type": "code",
   "source": [
    "if yarpModule is not None:\n",
    "    loginfo(\"stopping the module\")\n",
    "    interrupt_and_close(yarpModule)\n"
   ],
   "id": "55ab5f06e4d0e0cb",
   "outputs": [
    {
     "name": "stdout",
     "output_type": "stream",
     "text": [
      "[INFO] [1733998909.369400]: [2392790548.py:2:<module>] stopping the module\n",
      "[INFO] |yarp.os.impl.PortCoreInputUnit|/pycramICubStatePublisher/state/torso:i| Removing input from /icubSim/torso/state:o to /pycramICubStatePublisher/state/torso:i\n",
      "[INFO] |yarp.os.impl.PortCoreInputUnit|/pycramICubStatePublisher/state/right_arm:i| Removing input from /icubSim/right_arm/state:o to /pycramICubStatePublisher/state/right_arm:i\n",
      "[INFO] |yarp.os.impl.PortCoreInputUnit|/pycramICubStatePublisher/state/left_arm:i| Removing input from /icubSim/left_arm/state:o to /pycramICubStatePublisher/state/left_arm:i\n",
      "[INFO] |yarp.os.impl.PortCoreInputUnit|/pycramICubStatePublisher/state/head:i| Removing input from /icubSim/head/state:o to /pycramICubStatePublisher/state/head:i\n",
      "iCub state updater closed\n"
     ]
    }
   ],
   "execution_count": 12
  },
  {
   "metadata": {
    "ExecuteTime": {
     "end_time": "2024-12-12T10:21:50.823758Z",
     "start_time": "2024-12-12T10:21:50.100245Z"
    }
   },
   "cell_type": "code",
   "source": [
    "#viz_marker_publisher._stop_publishing()\n",
    "world.exit()"
   ],
   "id": "cb2c354ab424d955",
   "outputs": [
    {
     "name": "stderr",
     "output_type": "stream",
     "text": [
      "[ERROR] [1733998910.532109]: [yarp_joint_state_updater.py:222:update_joint_degree] error in updating joint r_hand_index_3_joint to 0.0 degree\n",
      "[ERROR] [1733998910.810581]: [yarp_joint_state_updater.py:222:update_joint_degree] error in updating joint r_hand_middle_1_joint to 0.0 degree\n",
      "[ERROR] [1733998910.814906]: [yarp_joint_state_updater.py:222:update_joint_degree] error in updating joint r_hand_middle_2_joint to 0.0 degree\n"
     ]
    }
   ],
   "execution_count": 13
  }
 ],
 "metadata": {
  "kernelspec": {
   "display_name": "Python 3",
   "language": "python",
   "name": "python3"
  },
  "language_info": {
   "codemirror_mode": {
    "name": "ipython",
    "version": 2
   },
   "file_extension": ".py",
   "mimetype": "text/x-python",
   "name": "python",
   "nbconvert_exporter": "python",
   "pygments_lexer": "ipython2",
   "version": "2.7.6"
  }
 },
 "nbformat": 4,
 "nbformat_minor": 5
}
